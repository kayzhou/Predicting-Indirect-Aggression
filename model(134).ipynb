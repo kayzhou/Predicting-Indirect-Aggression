{
 "cells": [
  {
   "cell_type": "code",
   "execution_count": null,
   "metadata": {},
   "outputs": [],
   "source": [
    "import pandas as pd\n",
    "import numpy as np\n",
    "\n",
    "from sklearn.preprocessing import MinMaxScaler\n",
    "\n",
    "from collections import Counter\n",
    "from sklearn.model_selection import (GridSearchCV, cross_val_score,\n",
    "                                     cross_validate, train_test_split)\n",
    "from sklearn.metrics import auc, classification_report, f1_score, roc_curve\n",
    "\n",
    "from sklearn import linear_model,svm\n",
    "from sklearn.neighbors import KNeighborsClassifier\n",
    "from sklearn.svm import SVC\n",
    "from sklearn.ensemble import RandomForestClassifier\n",
    "from sklearn.neural_network import MLPClassifier\n",
    "\n",
    "import warnings\n",
    "warnings.filterwarnings(\"ignore\")"
   ]
  },
  {
   "cell_type": "markdown",
   "metadata": {},
   "source": [
    "### 除词向量特征外的134个特征"
   ]
  },
  {
   "cell_type": "code",
   "execution_count": null,
   "metadata": {},
   "outputs": [],
   "source": [
    "w_feas = pd.read_csv(\"features_202207/users320_b+t_features_202210.csv\")\n",
    "w_feas[\"uid\"].astype(\"str\")\n",
    "w_feas = w_feas.set_index(\"uid\")\n",
    "cols_feas1 = w_feas.columns\n",
    "#w_feas\n",
    "cols_feas = list(cols_feas1)\n",
    "survey_data = pd.read_csv(\"features_202207/users320_survey_emotion_clas_202210.csv\", index_col=\"uid\")\n",
    "all_data = survey_data.join(w_feas).copy()\n",
    "#all_data"
   ]
  },
  {
   "cell_type": "code",
   "execution_count": null,
   "metadata": {},
   "outputs": [],
   "source": [
    "len(cols_feas)"
   ]
  },
  {
   "cell_type": "code",
   "execution_count": null,
   "metadata": {},
   "outputs": [],
   "source": [
    "X = all_data[cols_feas]\n",
    "print(\"y cols:\", [c for c in all_data.columns.to_list() if c.startswith(\"C3\")])\n",
    "y = all_data[[c for c in all_data.columns.to_list() if c.startswith(\"C3\")]]"
   ]
  },
  {
   "cell_type": "code",
   "execution_count": null,
   "metadata": {},
   "outputs": [],
   "source": [
    "scaler = MinMaxScaler()\n",
    "X = scaler.fit_transform(X)"
   ]
  },
  {
   "cell_type": "code",
   "execution_count": null,
   "metadata": {},
   "outputs": [],
   "source": [
    "def sjpc_train():\n",
    "\n",
    "    models = {\n",
    "        \"LR\": linear_model.LogisticRegression(C=1, solver=\"liblinear\"),\n",
    "#        \"K-Neighbors\": KNeighborsClassifier(n_neighbors= 3),\n",
    "        \"SVM\": svm.SVC(C=8, probability=True),\n",
    "#        \"Random Forest\": RandomForestClassifier(n_estimators = 4, max_depth = 5),\n",
    "        \"NN\": MLPClassifier(64, max_iter=50, solver='lbfgs')\n",
    "    }\n",
    "\n",
    "    for model_name, clf in models.items():\n",
    "        rsts = {}\n",
    "        print(\"*\" * 100)\n",
    "        print(f'Model: {model_name}')\n",
    "\n",
    "        for col_name, y_i in y.iteritems():\n",
    "            if not  col_name.endswith(\"DV2_社交排斥\"):\n",
    "                continue\n",
    "            \n",
    "            y_i = np.array(y_i)\n",
    "            X_train, X_test, y_train, y_test = train_test_split(X, y_i, test_size=0.3, random_state=12)\n",
    "            \n",
    "            print(col_name)\n",
    "            clf.fit(X_train,y_train)\n",
    "            train_perf = clf.score(X_train, y_train)\n",
    "            cv_perf = cross_val_score(clf, X_train, y_train, cv=10).mean()\n",
    "\n",
    "            y_hat = clf.predict(X_test)\n",
    "#            print('预测结果 =', Counter(y_hat))\n",
    "#            print('实际结果 =', Counter(y_test))            \n",
    "            f1 = f1_score(y_test, y_hat, average='macro')\n",
    "\n",
    "            metrics = ('accuracy', 'roc_auc_ovr') \n",
    "            scores = cross_validate(clf, X, y_i, cv=10, scoring=metrics)\n",
    "            \n",
    "            rsts[col_name] = {\n",
    "                \"train dataset\": train_perf,\n",
    "                \"cross validation\": cv_perf,\n",
    "                \"test dataset (f1)\": f1,\n",
    "                \"accuracy\": scores['test_accuracy'].mean(),\n",
    "                \"roc_auc_ovr\": scores['test_roc_auc_ovr'].mean()                \n",
    "            }\n",
    "            \n",
    "        print(\"- * \" * 20)\n",
    "        \n",
    "        rsts = pd.DataFrame(rsts) * 100\n",
    "        rsts = rsts.T\n",
    "        display(rsts)\n",
    "        \n",
    "        #rsts.to_csv(f\"result2210/rsts1-sjpc-model={model_name}.csv\", float_format=\"%.4f\", encoding=\"gbk\")"
   ]
  },
  {
   "cell_type": "code",
   "execution_count": null,
   "metadata": {
    "scrolled": false
   },
   "outputs": [],
   "source": [
    "sjpc_train()"
   ]
  },
  {
   "cell_type": "code",
   "execution_count": null,
   "metadata": {},
   "outputs": [],
   "source": [
    "def eyym_train():\n",
    "\n",
    "    models = {\n",
    "        \"LR\": linear_model.LogisticRegression(C=1, solver=\"newton-cg\"),\n",
    "#        \"K-Neighbors\": KNeighborsClassifier(n_neighbors= 3),\n",
    "        \"SVM\": svm.SVC(C=6, probability=True),\n",
    "#        \"Random Forest\": RandomForestClassifier(n_estimators = 4, max_depth = 5),\n",
    "        \"NN\": MLPClassifier(64, max_iter=50, solver='lbfgs')\n",
    "    }\n",
    "\n",
    "    for model_name, clf in models.items():\n",
    "        rsts = {}\n",
    "        print(\"*\" * 100)\n",
    "        print(f'Model: {model_name}')\n",
    "\n",
    "        for col_name, y_i in y.iteritems():\n",
    "            if not  col_name.endswith(\"恶意幽默\"):\n",
    "                continue\n",
    "            \n",
    "            y_i = np.array(y_i)\n",
    "            X_train, X_test, y_train, y_test = train_test_split(X, y_i, test_size=0.3, random_state=12)\n",
    "            \n",
    "            print(col_name)\n",
    "            clf.fit(X_train,y_train)\n",
    "            train_perf = clf.score(X_train, y_train)\n",
    "            cv_perf = cross_val_score(clf, X_train, y_train, cv=10).mean()\n",
    "\n",
    "            y_hat = clf.predict(X_test)\n",
    "#            print('预测结果 =', Counter(y_hat))\n",
    "#            print('实际结果 =', Counter(y_test))            \n",
    "            f1 = f1_score(y_test, y_hat, average='macro')\n",
    "\n",
    "            metrics = ('accuracy', 'roc_auc_ovr') \n",
    "            scores = cross_validate(clf, X, y_i, cv=10, scoring=metrics)\n",
    "            \n",
    "            rsts[col_name] = {\n",
    "                \"train dataset\": train_perf,\n",
    "                \"cross validation\": cv_perf,\n",
    "                \"test dataset (f1)\": f1,\n",
    "                \"accuracy\": scores['test_accuracy'].mean(),\n",
    "                \"roc_auc_ovr\": scores['test_roc_auc_ovr'].mean()                \n",
    "            }\n",
    "            \n",
    "        print(\"- * \" * 20)\n",
    "        \n",
    "        rsts = pd.DataFrame(rsts) * 100\n",
    "        rsts = rsts.T\n",
    "        display(rsts)\n",
    "        \n",
    "        #rsts.to_csv(f\"result2210/rsts1-sjpc-model={model_name}.csv\", float_format=\"%.4f\", encoding=\"gbk\")"
   ]
  },
  {
   "cell_type": "code",
   "execution_count": null,
   "metadata": {},
   "outputs": [],
   "source": [
    "eyym_train()"
   ]
  },
  {
   "cell_type": "code",
   "execution_count": null,
   "metadata": {},
   "outputs": [],
   "source": []
  },
  {
   "cell_type": "code",
   "execution_count": null,
   "metadata": {},
   "outputs": [],
   "source": []
  },
  {
   "cell_type": "code",
   "execution_count": null,
   "metadata": {},
   "outputs": [],
   "source": []
  },
  {
   "cell_type": "code",
   "execution_count": null,
   "metadata": {},
   "outputs": [],
   "source": []
  },
  {
   "cell_type": "code",
   "execution_count": null,
   "metadata": {},
   "outputs": [],
   "source": [
    "def njyd_train():\n",
    "\n",
    "    models = {\n",
    "        \"LR\": linear_model.LogisticRegression(C=0.6, solver=\"liblinear\"),\n",
    "#        \"K-Neighbors\": KNeighborsClassifier(n_neighbors= 3),\n",
    "        \"SVM\": svm.SVC(C=6, probability=True),\n",
    "#        \"Random Forest\": RandomForestClassifier(n_estimators = 4, max_depth = 5),\n",
    "        \"NN\": MLPClassifier(64, max_iter=50, solver='lbfgs')\n",
    "    }\n",
    "\n",
    "    for model_name, clf in models.items():\n",
    "        rsts = {}\n",
    "        print(\"*\" * 100)\n",
    "        print(f'Model: {model_name}')\n",
    "\n",
    "        for col_name, y_i in y.iteritems():\n",
    "            if not  col_name.endswith(\"内疚诱导\"):\n",
    "                continue\n",
    "            \n",
    "            y_i = np.array(y_i)\n",
    "            X_train, X_test, y_train, y_test = train_test_split(X, y_i, test_size=0.3, random_state=12)\n",
    "            \n",
    "            print(col_name)\n",
    "            clf.fit(X_train,y_train)\n",
    "            train_perf = clf.score(X_train, y_train)\n",
    "            cv_perf = cross_val_score(clf, X_train, y_train, cv=10).mean()\n",
    "\n",
    "            y_hat = clf.predict(X_test)\n",
    "#            print('预测结果 =', Counter(y_hat))\n",
    "#            print('实际结果 =', Counter(y_test))            \n",
    "            f1 = f1_score(y_test, y_hat, average='macro')\n",
    "\n",
    "            metrics = ('accuracy', 'roc_auc_ovr') \n",
    "            scores = cross_validate(clf, X, y_i, cv=10, scoring=metrics)\n",
    "            \n",
    "            rsts[col_name] = {\n",
    "                \"train dataset\": train_perf,\n",
    "                \"cross validation\": cv_perf,\n",
    "                \"test dataset (f1)\": f1,\n",
    "                \"accuracy\": scores['test_accuracy'].mean(),\n",
    "                \"roc_auc_ovr\": scores['test_roc_auc_ovr'].mean()                \n",
    "            }\n",
    "            \n",
    "        print(\"- * \" * 20)\n",
    "        \n",
    "        rsts = pd.DataFrame(rsts) * 100\n",
    "        rsts = rsts.T\n",
    "        display(rsts)\n",
    "        \n",
    "        #rsts.to_csv(f\"result2210/rsts1-sjpc-model={model_name}.csv\", float_format=\"%.4f\", encoding=\"gbk\")"
   ]
  },
  {
   "cell_type": "code",
   "execution_count": null,
   "metadata": {
    "scrolled": false
   },
   "outputs": [],
   "source": [
    "njyd_train()"
   ]
  }
 ],
 "metadata": {
  "kernelspec": {
   "display_name": "Python 3",
   "language": "python",
   "name": "python3"
  },
  "language_info": {
   "codemirror_mode": {
    "name": "ipython",
    "version": 3
   },
   "file_extension": ".py",
   "mimetype": "text/x-python",
   "name": "python",
   "nbconvert_exporter": "python",
   "pygments_lexer": "ipython3",
   "version": "3.8.3"
  }
 },
 "nbformat": 4,
 "nbformat_minor": 4
}
